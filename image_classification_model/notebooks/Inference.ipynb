{
 "cells": [
  {
   "cell_type": "code",
   "execution_count": null,
   "id": "13ec46d9",
   "metadata": {},
   "outputs": [],
   "source": [
    "# 05_Inference.ipynb\n",
    "import numpy as np\n",
    "import cv2\n",
    "import matplotlib.pyplot as plt\n",
    "\n",
    "# Load an example image\n",
    "image_path = os.path.join(data_dir, 'cats', 'cat.jpg')\n",
    "image = cv2.imread(image_path)\n",
    "image_resized = cv2.resize(image, (256, 256))\n",
    "\n",
    "# Preprocess image\n",
    "image_resized = image_resized / 255.0\n",
    "\n",
    "# Predict using the model\n",
    "yhat = model.predict(np.expand_dims(image_resized, axis=0))\n",
    "\n",
    "# Display result\n",
    "if yhat > 0.5:\n",
    "    print(\"The image is a dog.\")\n",
    "else:\n",
    "    print(\"The image is a cat.\")\n",
    "\n",
    "# Display the image\n",
    "plt.imshow(image_resized)\n",
    "plt.title(\"Prediction: Dog\" if yhat > 0.5 else \"Prediction: Cat\")\n",
    "plt.show()\n"
   ]
  }
 ],
 "metadata": {
  "kernelspec": {
   "display_name": "Python 3 (ipykernel)",
   "language": "python",
   "name": "python3"
  },
  "language_info": {
   "codemirror_mode": {
    "name": "ipython",
    "version": 3
   },
   "file_extension": ".py",
   "mimetype": "text/x-python",
   "name": "python",
   "nbconvert_exporter": "python",
   "pygments_lexer": "ipython3",
   "version": "3.9.13"
  }
 },
 "nbformat": 4,
 "nbformat_minor": 5
}
