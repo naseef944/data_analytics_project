{
 "cells": [
  {
   "cell_type": "code",
   "execution_count": 2,
   "id": "d1198e70",
   "metadata": {},
   "outputs": [
    {
     "name": "stdout",
     "output_type": "stream",
     "text": [
      "Classes in the dataset: ['cats', 'dogs']\n",
      "Total images found: 171\n"
     ]
    }
   ],
   "source": [
    "# 01_EDA.ipynb\n",
    "import os\n",
    "\n",
    "# Define the data directory\n",
    "data_dir = r\"D:\\data\"\n",
    "\n",
    "# List all files in the directory\n",
    "file_list = os.listdir(data_dir)\n",
    "print(f\"Classes in the dataset: {file_list}\")\n",
    "\n",
    "# Filter image files by extension\n",
    "image_exts = ['jpeg', 'jpg', 'bmp', 'png']\n",
    "image_count = 0\n",
    "\n",
    "for image_class in os.listdir(data_dir):\n",
    "    path = os.path.join(data_dir, image_class)\n",
    "    image_count += len([f for f in os.listdir(path) if os.path.isfile(os.path.join(path, f))])\n",
    "\n",
    "print(f\"Total images found: {image_count}\")\n"
   ]
  },
  {
   "cell_type": "code",
   "execution_count": null,
   "id": "b058d1e7",
   "metadata": {},
   "outputs": [],
   "source": []
  }
 ],
 "metadata": {
  "kernelspec": {
   "display_name": "Python 3 (ipykernel)",
   "language": "python",
   "name": "python3"
  },
  "language_info": {
   "codemirror_mode": {
    "name": "ipython",
    "version": 3
   },
   "file_extension": ".py",
   "mimetype": "text/x-python",
   "name": "python",
   "nbconvert_exporter": "python",
   "pygments_lexer": "ipython3",
   "version": "3.9.13"
  }
 },
 "nbformat": 4,
 "nbformat_minor": 5
}
