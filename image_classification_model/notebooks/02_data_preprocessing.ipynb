{
 "cells": [
  {
   "cell_type": "code",
   "execution_count": 1,
   "id": "13b95c6a",
   "metadata": {},
   "outputs": [
    {
     "name": "stdout",
     "output_type": "stream",
     "text": [
      "Found 171 files belonging to 2 classes.\n"
     ]
    }
   ],
   "source": [
    "# 02_Data_Preprocessing.ipynb\n",
    "import tensorflow as tf\n",
    "import os\n",
    "import cv2\n",
    "import imghdr\n",
    "\n",
    "# Enable memory growth for GPUs\n",
    "gpus = tf.config.experimental.list_physical_devices('GPU')\n",
    "for gpu in gpus:\n",
    "    tf.config.experimental.set_memory_growth(gpu, True)\n",
    "\n",
    "# Set up data directory\n",
    "data_dir = r\"D:\\data\"\n",
    "image_exts = ['jpeg', 'jpg', 'bmp', 'png']\n",
    "\n",
    "# Clean the dataset and remove images with unsupported extensions\n",
    "for image_class in os.listdir(data_dir):\n",
    "    path = os.path.join(data_dir, image_class)\n",
    "    for image in os.listdir(path):\n",
    "        image_path = os.path.join(path, image)\n",
    "        try:\n",
    "            img = cv2.imread(image_path)\n",
    "            if imghdr.what(image_path) not in image_exts:\n",
    "                print(f'Removing image: {image_path}')\n",
    "                os.remove(image_path)\n",
    "        except Exception as e:\n",
    "            print(f\"Issue with image {image_path}: {e}\")\n",
    "\n",
    "# Load dataset using TensorFlow utility\n",
    "data = tf.keras.utils.image_dataset_from_directory(data_dir)\n"
   ]
  },
  {
   "cell_type": "code",
   "execution_count": null,
   "id": "c73497a6",
   "metadata": {},
   "outputs": [],
   "source": []
  }
 ],
 "metadata": {
  "kernelspec": {
   "display_name": "Python 3 (ipykernel)",
   "language": "python",
   "name": "python3"
  },
  "language_info": {
   "codemirror_mode": {
    "name": "ipython",
    "version": 3
   },
   "file_extension": ".py",
   "mimetype": "text/x-python",
   "name": "python",
   "nbconvert_exporter": "python",
   "pygments_lexer": "ipython3",
   "version": "3.9.13"
  }
 },
 "nbformat": 4,
 "nbformat_minor": 5
}
